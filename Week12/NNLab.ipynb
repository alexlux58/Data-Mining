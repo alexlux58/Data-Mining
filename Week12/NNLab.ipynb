{
  "nbformat": 4,
  "nbformat_minor": 0,
  "metadata": {
    "colab": {
      "name": "NNLab.ipynb",
      "provenance": [],
      "collapsed_sections": []
    },
    "kernelspec": {
      "name": "python3",
      "display_name": "Python 3"
    },
    "language_info": {
      "name": "python"
    }
  },
  "cells": [
    {
      "cell_type": "code",
      "execution_count": null,
      "metadata": {
        "colab": {
          "base_uri": "https://localhost:8080/",
          "height": 620
        },
        "id": "-7m-SFx_mq49",
        "outputId": "eb9ba6c5-ecc8-488d-c50d-0bb03f1e5b7c"
      },
      "outputs": [
        {
          "output_type": "stream",
          "name": "stdout",
          "text": [
            "Downloading data from https://storage.googleapis.com/tensorflow/tf-keras-datasets/mnist.npz\n",
            "11493376/11490434 [==============================] - 0s 0us/step\n",
            "11501568/11490434 [==============================] - 0s 0us/step\n",
            "(60000, 28, 28)\n"
          ]
        },
        {
          "output_type": "execute_result",
          "data": {
            "text/plain": [
              "<matplotlib.image.AxesImage at 0x7f6de6dcd290>"
            ]
          },
          "metadata": {},
          "execution_count": 2
        },
        {
          "output_type": "display_data",
          "data": {
            "text/plain": [
              "<Figure size 288x288 with 1 Axes>"
            ],
            "image/png": "[encoded data removed]"
          },
          "metadata": {
            "needs_background": "light"
          }
        },
        {
          "output_type": "display_data",
          "data": {
            "text/plain": [
              "<Figure size 288x288 with 1 Axes>"
            ],
            "image/png": "[encoded data removed]"
          },
          "metadata": {
            "needs_background": "light"
          }
        }
      ],
      "source": [
        "from tensorflow import keras\n",
        "(x_train, y_train), (x_test, y_test) = keras.datasets.mnist.load_data()\n",
        "print(x_train.shape)\n",
        "\n",
        "import matplotlib.pyplot as plt\n",
        "plt.matshow(x_train[2])\n",
        "plt.matshow(x_test[2])"
      ]
    },
    {
      "cell_type": "code",
      "source": [
        "from sklearn.neural_network import MLPClassifier\n",
        "import numpy as np\n",
        "from sklearn.metrics import classification_report\n",
        "\n",
        "x_train = np.reshape(x_train, (60000,784))\n",
        "x_test = np.reshape(x_test, (10000,784))\n",
        "clf = MLPClassifier(hidden_layer_sizes=(10,5,), activation=\"relu\", verbose=True, solver=\"adam\").fit(x_train, y_train)\n",
        "pred = clf.predict(x_test)\n",
        "print(classification_report(y_test, pred))"
      ],
      "metadata": {
        "colab": {
          "base_uri": "https://localhost:8080/"
        },
        "id": "J4py_-ORoa0h",
        "outputId": "bc932039-2ec1-4ca7-ae04-5b4e0723dd24"
      },
      "execution_count": null,
      "outputs": [
        {
          "output_type": "stream",
          "name": "stdout",
          "text": [
            "Iteration 1, loss = 2.75107744\n",
            "Iteration 2, loss = 2.13061975\n",
            "Iteration 3, loss = 2.01473109\n",
            "Iteration 4, loss = 1.96907807\n",
            "Iteration 5, loss = 1.94282553\n",
            "Iteration 6, loss = 1.92294387\n",
            "Iteration 7, loss = 1.90663756\n",
            "Iteration 8, loss = 1.88460618\n",
            "Iteration 9, loss = 1.85029859\n",
            "Iteration 10, loss = 1.82163324\n",
            "Iteration 11, loss = 1.80026629\n",
            "Iteration 12, loss = 1.76648482\n",
            "Iteration 13, loss = 1.46958592\n",
            "Iteration 14, loss = 1.31348953\n",
            "Iteration 15, loss = 1.20286617\n",
            "Iteration 16, loss = 1.07144732\n",
            "Iteration 17, loss = 0.92759783\n",
            "Iteration 18, loss = 0.74762668\n",
            "Iteration 19, loss = 0.66118934\n",
            "Iteration 20, loss = 0.62588349\n",
            "Iteration 21, loss = 0.60280438\n",
            "Iteration 22, loss = 0.58169159\n",
            "Iteration 23, loss = 0.56672803\n",
            "Iteration 24, loss = 0.54857966\n",
            "Iteration 25, loss = 0.53951324\n",
            "Iteration 26, loss = 0.52696069\n",
            "Iteration 27, loss = 0.51807793\n",
            "Iteration 28, loss = 0.51035864\n",
            "Iteration 29, loss = 0.50686983\n",
            "Iteration 30, loss = 0.50017507\n",
            "Iteration 31, loss = 0.49427367\n",
            "Iteration 32, loss = 0.48768452\n",
            "Iteration 33, loss = 0.48485833\n",
            "Iteration 34, loss = 0.48154018\n",
            "Iteration 35, loss = 0.47610942\n",
            "Iteration 36, loss = 0.47264253\n",
            "Iteration 37, loss = 0.47189879\n",
            "Iteration 38, loss = 0.46706398\n",
            "Iteration 39, loss = 0.46392763\n",
            "Iteration 40, loss = 0.46473762\n",
            "Iteration 41, loss = 0.46141661\n",
            "Iteration 42, loss = 0.46043882\n",
            "Iteration 43, loss = 0.45691257\n",
            "Iteration 44, loss = 0.45703898\n",
            "Iteration 45, loss = 0.45457875\n",
            "Iteration 46, loss = 0.45468474\n",
            "Iteration 47, loss = 0.45388796\n",
            "Iteration 48, loss = 0.45361810\n",
            "Iteration 49, loss = 0.45072709\n",
            "Iteration 50, loss = 0.44888164\n",
            "Iteration 51, loss = 0.44751331\n",
            "Iteration 52, loss = 0.44684607\n",
            "Iteration 53, loss = 0.44763481\n",
            "Iteration 54, loss = 0.44545830\n",
            "Iteration 55, loss = 0.44408283\n",
            "Iteration 56, loss = 0.44336665\n",
            "Iteration 57, loss = 0.44251207\n",
            "Iteration 58, loss = 0.44249497\n",
            "Iteration 59, loss = 0.44314598\n",
            "Iteration 60, loss = 0.44551025\n",
            "Iteration 61, loss = 0.44150105\n",
            "Iteration 62, loss = 0.44055803\n",
            "Iteration 63, loss = 0.44016761\n",
            "Iteration 64, loss = 0.44055382\n",
            "Iteration 65, loss = 0.43697886\n",
            "Iteration 66, loss = 0.43820298\n",
            "Iteration 67, loss = 0.43686001\n",
            "Iteration 68, loss = 0.43459240\n",
            "Iteration 69, loss = 0.43464584\n",
            "Iteration 70, loss = 0.43922192\n",
            "Iteration 71, loss = 0.43331055\n",
            "Iteration 72, loss = 0.43211163\n",
            "Iteration 73, loss = 0.43089594\n",
            "Iteration 74, loss = 0.42752690\n",
            "Iteration 75, loss = 0.42935067\n",
            "Iteration 76, loss = 0.43005080\n",
            "Iteration 77, loss = 0.42809289\n",
            "Iteration 78, loss = 0.43050457\n",
            "Iteration 79, loss = 0.42583239\n",
            "Iteration 80, loss = 0.42410198\n",
            "Iteration 81, loss = 0.42690709\n",
            "Iteration 82, loss = 0.42360759\n",
            "Iteration 83, loss = 0.42531751\n",
            "Iteration 84, loss = 0.42167082\n",
            "Iteration 85, loss = 0.42416107\n",
            "Iteration 86, loss = 0.42011642\n",
            "Iteration 87, loss = 0.41895212\n",
            "Iteration 88, loss = 0.42416763\n",
            "Iteration 89, loss = 0.41939584\n",
            "Iteration 90, loss = 0.42082071\n",
            "Iteration 91, loss = 0.41959921\n",
            "Iteration 92, loss = 0.41860297\n",
            "Iteration 93, loss = 0.41984485\n",
            "Iteration 94, loss = 0.41657128\n",
            "Iteration 95, loss = 0.41558806\n",
            "Iteration 96, loss = 0.41361786\n",
            "Iteration 97, loss = 0.41226783\n",
            "Iteration 98, loss = 0.41120268\n",
            "Iteration 99, loss = 0.41130014\n",
            "Iteration 100, loss = 0.40838564\n",
            "Iteration 101, loss = 0.41186679\n",
            "Iteration 102, loss = 0.40708692\n",
            "Iteration 103, loss = 0.40732832\n",
            "Iteration 104, loss = 0.40375207\n",
            "Iteration 105, loss = 0.40299541\n",
            "Iteration 106, loss = 0.40232256\n",
            "Iteration 107, loss = 0.40147885\n",
            "Iteration 108, loss = 0.40106656\n",
            "Iteration 109, loss = 0.39961617\n",
            "Iteration 110, loss = 0.39986843\n",
            "Iteration 111, loss = 0.39764007\n",
            "Iteration 112, loss = 0.39666344\n",
            "Iteration 113, loss = 0.39674021\n",
            "Iteration 114, loss = 0.39292177\n",
            "Iteration 115, loss = 0.39157433\n",
            "Iteration 116, loss = 0.39037449\n",
            "Iteration 117, loss = 0.38915334\n",
            "Iteration 118, loss = 0.38871355\n",
            "Iteration 119, loss = 0.38504132\n",
            "Iteration 120, loss = 0.38580275\n",
            "Iteration 121, loss = 0.38401224\n",
            "Iteration 122, loss = 0.38539143\n",
            "Iteration 123, loss = 0.38031137\n",
            "Iteration 124, loss = 0.38226244\n",
            "Iteration 125, loss = 0.38198759\n",
            "Iteration 126, loss = 0.37827943\n",
            "Iteration 127, loss = 0.37706594\n",
            "Iteration 128, loss = 0.37800951\n",
            "Iteration 129, loss = 0.37800955\n",
            "Iteration 130, loss = 0.37692240\n",
            "Iteration 131, loss = 0.37542580\n",
            "Iteration 132, loss = 0.37549630\n",
            "Iteration 133, loss = 0.37533204\n",
            "Iteration 134, loss = 0.37353946\n",
            "Iteration 135, loss = 0.37471065\n",
            "Iteration 136, loss = 0.37628845\n",
            "Iteration 137, loss = 0.37394985\n",
            "Iteration 138, loss = 0.37476842\n",
            "Iteration 139, loss = 0.37296781\n",
            "Iteration 140, loss = 0.37193649\n",
            "Iteration 141, loss = 0.37343619\n",
            "Iteration 142, loss = 0.36938646\n",
            "Iteration 143, loss = 0.37164507\n",
            "Iteration 144, loss = 0.37050670\n",
            "Iteration 145, loss = 0.37088714\n",
            "Iteration 146, loss = 0.36940235\n",
            "Iteration 147, loss = 0.37014984\n",
            "Iteration 148, loss = 0.36985457\n",
            "Iteration 149, loss = 0.37065562\n",
            "Iteration 150, loss = 0.36850789\n",
            "Iteration 151, loss = 0.36655176\n",
            "Iteration 152, loss = 0.36625340\n",
            "Iteration 153, loss = 0.36779194\n",
            "Iteration 154, loss = 0.36583770\n",
            "Iteration 155, loss = 0.36726323\n",
            "Iteration 156, loss = 0.36593901\n",
            "Iteration 157, loss = 0.36656367\n",
            "Iteration 158, loss = 0.36814280\n",
            "Iteration 159, loss = 0.36728098\n",
            "Iteration 160, loss = 0.36507902\n",
            "Iteration 161, loss = 0.36707831\n",
            "Iteration 162, loss = 0.36499331\n",
            "Iteration 163, loss = 0.36722549\n",
            "Iteration 164, loss = 0.36592718\n",
            "Iteration 165, loss = 0.36604908\n",
            "Iteration 166, loss = 0.36422899\n",
            "Iteration 167, loss = 0.36512721\n",
            "Iteration 168, loss = 0.36263514\n",
            "Iteration 169, loss = 0.36537324\n",
            "Iteration 170, loss = 0.36451514\n",
            "Iteration 171, loss = 0.36524586\n",
            "Iteration 172, loss = 0.36351686\n",
            "Iteration 173, loss = 0.36244537\n",
            "Iteration 174, loss = 0.36219671\n",
            "Iteration 175, loss = 0.36329529\n",
            "Iteration 176, loss = 0.36244916\n",
            "Iteration 177, loss = 0.36249987\n",
            "Iteration 178, loss = 0.36491706\n",
            "Iteration 179, loss = 0.36368031\n",
            "Iteration 180, loss = 0.36350810\n",
            "Iteration 181, loss = 0.36122553\n",
            "Iteration 182, loss = 0.36399003\n",
            "Iteration 183, loss = 0.36317867\n",
            "Iteration 184, loss = 0.36216972\n",
            "Iteration 185, loss = 0.36044280\n",
            "Iteration 186, loss = 0.36011237\n",
            "Iteration 187, loss = 0.36219575\n",
            "Iteration 188, loss = 0.36435763\n",
            "Iteration 189, loss = 0.35982583\n",
            "Iteration 190, loss = 0.36146534\n",
            "Iteration 191, loss = 0.35946874\n",
            "Iteration 192, loss = 0.36378219\n",
            "Iteration 193, loss = 0.36008340\n",
            "Iteration 194, loss = 0.36076773\n",
            "Iteration 195, loss = 0.36206776\n",
            "Iteration 196, loss = 0.35958163\n",
            "Iteration 197, loss = 0.35749679\n",
            "Iteration 198, loss = 0.35959964\n",
            "Iteration 199, loss = 0.35927319\n",
            "Iteration 200, loss = 0.36119063\n"
          ]
        },
        {
          "output_type": "stream",
          "name": "stderr",
          "text": [
            "/usr/local/lib/python3.7/dist-packages/sklearn/neural_network/_multilayer_perceptron.py:696: ConvergenceWarning: Stochastic Optimizer: Maximum iterations (200) reached and the optimization hasn't converged yet.\n",
            "  ConvergenceWarning,\n"
          ]
        },
        {
          "output_type": "stream",
          "name": "stdout",
          "text": [
            "              precision    recall  f1-score   support\n",
            "\n",
            "           0       0.86      0.96      0.90       980\n",
            "           1       0.95      0.97      0.96      1135\n",
            "           2       0.91      0.90      0.90      1032\n",
            "           3       0.92      0.88      0.90      1010\n",
            "           4       0.92      0.88      0.90       982\n",
            "           5       0.91      0.81      0.86       892\n",
            "           6       0.92      0.94      0.93       958\n",
            "           7       0.89      0.87      0.88      1028\n",
            "           8       0.81      0.81      0.81       974\n",
            "           9       0.83      0.88      0.85      1009\n",
            "\n",
            "    accuracy                           0.89     10000\n",
            "   macro avg       0.89      0.89      0.89     10000\n",
            "weighted avg       0.89      0.89      0.89     10000\n",
            "\n"
          ]
        }
      ]
    },
    {
      "cell_type": "code",
      "source": [
        "import tensorflow as tf\n",
        "from tensorflow.keras import layers\n",
        "\n",
        "model = keras.Sequential()\n",
        "model.add(layers.Dense(10, input_dim=784, activation=\"relu\"))\n",
        "model.add(layers.Dense(5, activation=\"relu\"))\n",
        "model.add(layers.Dense(10, activation=\"softmax\"))\n",
        "model.summary()\n",
        "\n",
        "model.compile(\n",
        "    optimizer=tf.keras.optimizers.Adam(),\n",
        "    loss=tf.keras.losses.CategoricalCrossentropy(),\n",
        "    metrics=tf.keras.metrics.Accuracy()\n",
        ")\n",
        "\n",
        "y_train = tf.keras.utils.to_categorical(y_train, num_classes=10, dtype='int32')\n",
        "y_test = tf.keras.utils.to_categorical(y_test, num_classes=10, dtype='int32')\n",
        "\n",
        "checkpoint_filepath = '/content/drive/MyDrive/Colab Notebooks'\n",
        "model_checkpoint_callback = tf.keras.callbacks.ModelCheckpoint(\n",
        "    filepath=checkpoint_filepath,\n",
        "    save_weights_only=True,\n",
        "    monitor='val_accuracy',\n",
        "    mode='max',\n",
        "    save_best_only=True)\n",
        "\n",
        "model.fit(x_train, y_train, batch_size=10, epochs=5, shuffle=True, validation_split=0.3, callbacks=[model_checkpoint_callback])"
      ],
      "metadata": {
        "colab": {
          "base_uri": "https://localhost:8080/"
        },
        "id": "3M6O28Qcu-V7",
        "outputId": "a2336422-4b9a-4624-a0af-e2ba348ded5c"
      },
      "execution_count": null,
      "outputs": [
        {
          "output_type": "stream",
          "name": "stdout",
          "text": [
            "Model: \"sequential\"\n",
            "_________________________________________________________________\n",
            " Layer (type)                Output Shape              Param #   \n",
            "=================================================================\n",
            " dense (Dense)               (None, 10)                7850      \n",
            "                                                                 \n",
            " dense_1 (Dense)             (None, 5)                 55        \n",
            "                                                                 \n",
            " dense_2 (Dense)             (None, 10)                60        \n",
            "                                                                 \n",
            "=================================================================\n",
            "Total params: 7,965\n",
            "Trainable params: 7,965\n",
            "Non-trainable params: 0\n",
            "_________________________________________________________________\n",
            "Epoch 1/5\n",
            "4200/4200 [==============================] - 10s 2ms/step - loss: 2.1515 - accuracy: 0.0060 - val_loss: 1.7125 - val_accuracy: 0.0132\n",
            "Epoch 2/5\n",
            "4200/4200 [==============================] - 9s 2ms/step - loss: 1.6516 - accuracy: 0.0060 - val_loss: 1.4835 - val_accuracy: 0.0000e+00\n",
            "Epoch 3/5\n",
            "4200/4200 [==============================] - 9s 2ms/step - loss: 1.3858 - accuracy: 0.0000e+00 - val_loss: 1.2564 - val_accuracy: 0.0000e+00\n",
            "Epoch 4/5\n",
            "4200/4200 [==============================] - 9s 2ms/step - loss: 1.2510 - accuracy: 0.0000e+00 - val_loss: 1.2386 - val_accuracy: 5.5556e-06\n",
            "Epoch 5/5\n",
            "4200/4200 [==============================] - 9s 2ms/step - loss: 1.2239 - accuracy: 2.3810e-06 - val_loss: 1.2175 - val_accuracy: 0.0000e+00\n"
          ]
        },
        {
          "output_type": "execute_result",
          "data": {
            "text/plain": [
              "<keras.callbacks.History at 0x7f6ddf4b9450>"
            ]
          },
          "metadata": {},
          "execution_count": 4
        }
      ]
    },
    {
      "cell_type": "code",
      "source": [
        "pred = clf.predict(x_test)\n",
        "y_test = np.argmax(y_test, axis=1)\n",
        "print(classification_report(y_test, pred))"
      ],
      "metadata": {
        "id": "wkrWFLXa2jsy",
        "colab": {
          "base_uri": "https://localhost:8080/"
        },
        "outputId": "ee5b683f-d6d2-411e-b5e5-50c67b5d1ec2"
      },
      "execution_count": null,
      "outputs": [
        {
          "output_type": "stream",
          "name": "stdout",
          "text": [
            "              precision    recall  f1-score   support\n",
            "\n",
            "           0       0.86      0.96      0.90       980\n",
            "           1       0.95      0.97      0.96      1135\n",
            "           2       0.91      0.90      0.90      1032\n",
            "           3       0.92      0.88      0.90      1010\n",
            "           4       0.92      0.88      0.90       982\n",
            "           5       0.91      0.81      0.86       892\n",
            "           6       0.92      0.94      0.93       958\n",
            "           7       0.89      0.87      0.88      1028\n",
            "           8       0.81      0.81      0.81       974\n",
            "           9       0.83      0.88      0.85      1009\n",
            "\n",
            "    accuracy                           0.89     10000\n",
            "   macro avg       0.89      0.89      0.89     10000\n",
            "weighted avg       0.89      0.89      0.89     10000\n",
            "\n"
          ]
        }
      ]
    },
    {
      "cell_type": "code",
      "source": [
        "model.load_weights(checkpoint_filepath)"
      ],
      "metadata": {
        "id": "sbDL-9_039Zj",
        "colab": {
          "base_uri": "https://localhost:8080/"
        },
        "outputId": "f2b13155-8719-43b4-b2ef-60d100867285"
      },
      "execution_count": null,
      "outputs": [
        {
          "output_type": "execute_result",
          "data": {
            "text/plain": [
              "<tensorflow.python.training.tracking.util.CheckpointLoadStatus at 0x7f6dddae3950>"
            ]
          },
          "metadata": {},
          "execution_count": 6
        }
      ]
    }
  ]
}